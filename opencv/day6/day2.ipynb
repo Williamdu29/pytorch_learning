{
 "cells": [
  {
   "cell_type": "markdown",
   "metadata": {},
   "source": [
    "# 各种算子\n",
    "本质还是滤波，day1是去噪相关，本次是寻找边界\n",
    "\n",
    "## sobel算子\n",
    "图像边缘的特点：像素值发生突变的位置\n",
    "对图像作用以sobel算子，就是通过对图像求一阶导数，导数变化大-图像的像素值突变-边缘\n",
    "\n",
    "离散差分算子-针对离散的灰度值"
   ]
  },
  {
   "cell_type": "code",
   "execution_count": null,
   "metadata": {},
   "outputs": [],
   "source": [
    "import cv2\n",
    "import numpy as np\n",
    "\n",
    "\n",
    "ed = cv2.imread(\"/Users/duchengtai/Library/Mobile Documents/com~apple~CloudDocs/code- iCloud/opencv/day5/ed.jpeg\")\n",
    "\n",
    "# 注意sobel算子需要分别计算x方向和y方向\n",
    "ed_x = cv2.Sobel(ed,cv2.CV_64F,dx=1,dy=0,ksize=5)\n",
    "ed_y = cv2.Sobel(ed,cv2.CV_64F,dx=0,dy=1,ksize=5)\n",
    "\n",
    "dst = cv2.add(ed_x,ed_y)\n",
    "\n",
    "cv2.imshow(\"ed\",ed)\n",
    "cv2.imshow(\"boundary\",np.hstack([ed_x,ed_y]))\n",
    "# cv2.imshow(\"comparison\",np.hstack([ed,dst]))\n",
    "cv2.imshow(\"dst\",dst)\n",
    "\n",
    "cv2.waitKey(0)\n",
    "cv2.destroyAllWindows()"
   ]
  },
  {
   "cell_type": "markdown",
   "metadata": {},
   "source": []
  },
  {
   "cell_type": "markdown",
   "metadata": {},
   "source": [
    "## Scharr算子\n",
    "\n",
    "如果边缘点的像素值的突变不是很大，会被sobel算子当作图像的内部，从而无法识别出边缘\n",
    "scharr算子的大小只能是3*3\n",
    "\n",
    "结果比sobel算子更加精确"
   ]
  },
  {
   "cell_type": "markdown",
   "metadata": {},
   "source": []
  },
  {
   "cell_type": "code",
   "execution_count": null,
   "metadata": {},
   "outputs": [],
   "source": [
    "import cv2\n",
    "import numpy as np\n",
    "\n",
    "ed = cv2.imread(\"/Users/duchengtai/Library/Mobile Documents/com~apple~CloudDocs/code- iCloud/opencv/day5/ed.jpeg\")\n",
    "\n",
    "ed_x = cv2.Scharr(ed,cv2.CV_64F,dx=1,dy=0)\n",
    "ed_y = cv2.Scharr(ed,cv2.CV_64F,dx=0,dy=1)\n",
    "\n",
    "ed_boudary = cv2.add(ed_x,ed_y)\n",
    "\n",
    "ed_sobel = cv2.Sobel(ed,cv2.CV_64F,dx=1,dy=1,ksize=5)\n",
    "\n",
    "cv2.imshow(\"ed_b\",ed_boudary)\n",
    "cv2.imshow(\"xy\",np.hstack([ed_x,ed_y]))\n",
    "cv2.imshow(\"sobel\",ed_sobel)\n",
    "\n",
    "cv2.waitKey(0)\n",
    "cv2.destroyAllWindows()"
   ]
  },
  {
   "cell_type": "markdown",
   "metadata": {},
   "source": [
    "## 拉普拉斯算子\n",
    "图像的边缘就是一阶导数的极大值，那就是二阶导数为0的地方，转而去研究图像的二阶导数，在二阶导数为0的地方就是图像的边缘\n",
    "\n",
    "二阶差分\n",
    ">> 一阶差分：f'(x) = f(x)-f(x-1)\n",
    "\n",
    "把xy两个方向的导数叠加到一起\n",
    "\n",
    "API无法对x，y分别求解边缘，直接求全局的图像边缘"
   ]
  },
  {
   "cell_type": "code",
   "execution_count": null,
   "metadata": {},
   "outputs": [],
   "source": [
    "import cv2\n",
    "import numpy as np\n",
    "\n",
    "\n",
    "jm = cv2.imread(\"/Users/duchengtai/Library/Mobile Documents/com~apple~CloudDocs/code- iCloud/opencv/day5/JM2.jpeg\")\n",
    "\n",
    "jm_boundary = cv2.Laplacian(jm,cv2.CV_64F,ksize=3)\n",
    "\n",
    "cv2.imshow(\"jm_ori\",jm)\n",
    "cv2.imshow('jm',jm_boundary)\n",
    "\n",
    "cv2.waitKey(0)\n",
    "cv2.destroyAllWindows()"
   ]
  },
  {
   "cell_type": "markdown",
   "metadata": {},
   "source": [
    "## Canny边缘检测\n",
    "边缘检测的 最优算法\n",
    "\n",
    "在边缘检测前进行去噪——高斯滤波\n",
    "对平滑后的图片利用sobel算子计算梯度\n",
    "大小：G = sqrt(g_x^2+g_y^2)\n",
    "方向：theta = arctan(g_y/g_x)\n",
    "\n",
    "在每个像素点的导数值上加入方向值\n",
    "\n",
    "\n",
    "### 非极大值抑制 ###\n",
    "遍历图像，去掉所有不是边界的点\n",
    "\n",
    "当前像素点是否是周围像素点中具有相同方向的梯度最大值\n",
    "\n",
    "### 滞后阈值 ###\n",
    "\n",
    "最后一轮筛选\n",
    "梯度大于阈值——边缘\n",
    "梯度小于阈值——非边缘\n",
    "梯度介于中间？——若该点与边缘点相连，则算做边缘；没有相连，则不算"
   ]
  },
  {
   "cell_type": "markdown",
   "metadata": {},
   "source": []
  },
  {
   "cell_type": "code",
   "execution_count": 1,
   "metadata": {},
   "outputs": [],
   "source": [
    "import cv2\n",
    "import numpy as np\n",
    "\n",
    "wheel = cv2.imread(\"/Users/duchengtai/Library/Mobile Documents/com~apple~CloudDocs/code- iCloud/opencv/day5/wheel.jpeg\")\n",
    "\n",
    "wheel_bound = cv2.Canny(wheel,100,200)\n",
    "\n",
    "cv2.imshow(\"wheel_bound\",wheel_bound)\n",
    "cv2.imshow(\"wheel\",wheel)\n",
    "\n",
    "cv2.waitKey(0)\n",
    "cv2.destroyAllWindows()"
   ]
  },
  {
   "cell_type": "code",
   "execution_count": null,
   "metadata": {},
   "outputs": [],
   "source": []
  },
  {
   "cell_type": "code",
   "execution_count": null,
   "metadata": {},
   "outputs": [],
   "source": []
  },
  {
   "cell_type": "markdown",
   "metadata": {},
   "source": [
    "\n"
   ]
  }
 ],
 "metadata": {
  "kernelspec": {
   "display_name": "opencv_env",
   "language": "python",
   "name": "python3"
  },
  "language_info": {
   "codemirror_mode": {
    "name": "ipython",
    "version": 3
   },
   "file_extension": ".py",
   "mimetype": "text/x-python",
   "name": "python",
   "nbconvert_exporter": "python",
   "pygments_lexer": "ipython3",
   "version": "3.9.21"
  }
 },
 "nbformat": 4,
 "nbformat_minor": 2
}
