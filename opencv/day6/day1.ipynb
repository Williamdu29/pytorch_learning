{
 "cells": [
  {
   "cell_type": "markdown",
   "metadata": {},
   "source": [
    "# 滤波器\n",
    "\n",
    "## 卷积\n",
    "对图片滑动扫描，对应元素相乘相加\n",
    "对原始图片提取特征\n",
    "\n",
    "一般情况，步长为1-可以充分扫描图片\n",
    "padding，卷积后保持图片大小不变，在原始图片周围补充0的圈数\n",
    "\n",
    "## 计算公式\n",
    "\n",
    "原始图片：H*W*C\n",
    "\n",
    "Filter数量K\n",
    "Filter大小F\n",
    "步长S\n",
    "Padding P\n",
    "\n",
    "输出体积：\n",
    "\n",
    "H2*W2*C2\n",
    "\n",
    "\n",
    "H2 =  (H-F+2P)/S+1\n",
    "\n",
    "W2 =  (W1-F+2P)/S+1\n",
    "\n",
    "\n",
    "D2 = K\n",
    "\n",
    "卷机之后保持图片大小不变，则 P = (F-1)/2\n",
    "\n",
    "\n",
    "\n",
    "卷积核为奇数大小，输出的图片会有中心，这便于确定卷积核的位置，也就是锚点\n",
    "\n",
    "不同卷积核对应对图片进行不同的操作\n",
    "[详情](https://zhuanlan.zhihu.com/p/553987644)\n"
   ]
  },
  {
   "cell_type": "code",
   "execution_count": null,
   "metadata": {},
   "outputs": [],
   "source": [
    "import cv2\n",
    "import numpy as np"
   ]
  },
  {
   "cell_type": "code",
   "execution_count": null,
   "metadata": {},
   "outputs": [],
   "source": [
    "'''\n",
    "ddepth: 卷积之后图片的数据类型，一般-1，表示和原图类型一致\n",
    "kernal: 卷积核的大小\n",
    "anchor: 锚点，卷积核的中心\n",
    "delta: 卷积后额外加的一个数字\n",
    "'''\n",
    "\n",
    "jm = cv2.imread(\"/Users/duchengtai/Library/Mobile Documents/com~apple~CloudDocs/code- iCloud/opencv/day5/JM2.jpeg\")\n",
    "\n",
    "# 把图片转化成为灰度图像为了更加清晰的显示效果\n",
    "jm_gray = cv2.cvtColor(jm,cv2.COLOR_BGR2GRAY)\n",
    "\n",
    "# 卷积核是5*5大小的全1矩阵除以25 -模糊操作\n",
    "kernal1 = np.ones((5,5),np.float32)/25\n",
    "\n",
    "#提取图片的轮廓\n",
    "kernal2 = np.array([[-1,-1,-1],[-1,8,-1],[-1,-1,-1]])\n",
    "\n",
    "#浮雕效果\n",
    "kernal3 = np.array([[-2,-1,0],[-1,1,1],[0,1,2]])\n",
    "\n",
    "#锐化\n",
    "kernal4 = np.array([[0,-1,0],[-1,5,-1],[0,-1,0]])\n",
    "\n",
    "jm2 = cv2.filter2D(jm_gray,-1,kernal3)\n",
    "\n",
    "cv2.imshow(\"convlution\",np.hstack([jm_gray,jm2]))\n",
    "\n",
    "cv2.waitKey(0)\n",
    "cv2.destroyAllWindows()\n",
    "\n",
    "\n"
   ]
  },
  {
   "cell_type": "markdown",
   "metadata": {},
   "source": [
    "# 方盒滤波和均值滤波"
   ]
  },
  {
   "cell_type": "markdown",
   "metadata": {},
   "source": [
    "### 方盒滤波"
   ]
  },
  {
   "cell_type": "code",
   "execution_count": null,
   "metadata": {},
   "outputs": [],
   "source": [
    "import cv2\n",
    "import numpy as np\n",
    "\n",
    "img = cv2.imread(\"/Users/duchengtai/Library/Mobile Documents/com~apple~CloudDocs/code- iCloud/opencv/day5/ed.jpeg\")\n",
    "\n",
    "# 方盒滤波，直接调用API-模糊处理\n",
    "dst = cv2.boxFilter(img,-1,(5,5),normalize=True)\n",
    "\n",
    "cv2.imshow(\"方盒滤波\",np.hstack([img,dst]))\n",
    "\n",
    "cv2.waitKey(0)\n",
    "cv2.destroyAllWindows()\n"
   ]
  },
  {
   "cell_type": "markdown",
   "metadata": {},
   "source": [
    "### 均值滤波"
   ]
  },
  {
   "cell_type": "code",
   "execution_count": null,
   "metadata": {},
   "outputs": [],
   "source": [
    "import cv2\n",
    "import numpy as np\n",
    "\n",
    "img = cv2.imread(\"/Users/duchengtai/Library/Mobile Documents/com~apple~CloudDocs/code- iCloud/opencv/day5/ed.jpeg\")\n",
    "\n",
    "# 均值滤波，函数中没有位深的参数\n",
    "dst = cv2.blur(img,(5,5))\n",
    "\n",
    "cv2.imshow(\"均值滤波\",np.hstack([img,dst]))\n",
    "\n",
    "cv2.waitKey(0)\n",
    "cv2.destroyAllWindows()\n",
    "\n"
   ]
  },
  {
   "cell_type": "markdown",
   "metadata": {},
   "source": [
    "## 高斯滤波\n",
    "\n",
    "高斯滤波核就是卷积核内的数字符合高斯分布\n",
    "中间大，两边少\n",
    "即在锚点的卷积核元素大小最大，两边的边缘很小\n",
    "\n",
    "如何计算？锚点的坐标为（0，0），写出两侧边缘点的坐标，带入而为高斯函数进行计算\n",
    "计算后的值为每一个点的概率值，进行归一化后才是高斯卷积核\n",
    "\n",
    ">> 也有的高斯卷积核是在归一化后除以左上角的值，就变成了整数值\n",
    "\n",
    "\n",
    "\n",
    "高斯函数：符合正态分布的数据的概率密度函数\n",
    "参数：均值和方差\n",
    "\n"
   ]
  },
  {
   "cell_type": "code",
   "execution_count": null,
   "metadata": {},
   "outputs": [],
   "source": [
    "import cv2\n",
    "import numpy as np\n",
    "\n",
    "'''\n",
    "SigmaX:x轴的标准差，sigma越大，高斯函数矮胖，反之高斯函数瘦高\n",
    "'''\n",
    "\n",
    "ed = cv2.imread(\"/Users/duchengtai/Library/Mobile Documents/com~apple~CloudDocs/code- iCloud/opencv/day5/ed.jpeg\")\n",
    "\n",
    "res1 = cv2.GaussianBlur(ed,ksize=(9,9),sigmaX=1)\n",
    "res2 = cv2.GaussianBlur(ed,(9,9),10000000)\n",
    "\n",
    "cv2.imshow(\"高斯滤波对比\",np.hstack([ed,res1,res2]))\n",
    "\n",
    "cv2.waitKey(0)\n",
    "cv2.destroyAllWindows()\n"
   ]
  },
  {
   "cell_type": "code",
   "execution_count": null,
   "metadata": {},
   "outputs": [],
   "source": [
    "# 使用高斯滤波去噪\n",
    "import cv2\n",
    "import numpy as np\n",
    "\n",
    "pic = cv2.imread(\"/Users/duchengtai/Library/Mobile Documents/com~apple~CloudDocs/code- iCloud/opencv/day5/noise.jpeg\")\n",
    "\n",
    "pic_after = cv2.GaussianBlur(pic,(5,5),1)\n",
    "\n",
    "cv2.imshow(\"comparsion\",np.hstack([pic,pic_after]))\n",
    "\n",
    "cv2.waitKey(0)\n",
    "cv2.destroyAllWindows()"
   ]
  },
  {
   "cell_type": "markdown",
   "metadata": {},
   "source": [
    "## 中值滤波\n",
    "\n",
    "取出数组的中位数，作为卷积后的结果\n",
    "中值滤波用来消除胡椒噪声"
   ]
  },
  {
   "cell_type": "code",
   "execution_count": null,
   "metadata": {},
   "outputs": [],
   "source": [
    "import cv2\n",
    "import numpy as np\n",
    "\n",
    "img = cv2.imread(\"/Users/duchengtai/Library/Mobile Documents/com~apple~CloudDocs/code- iCloud/opencv/day5/noise.jpeg\")\n",
    "\n",
    "img_after = cv2.medianBlur(img,ksize=3)\n",
    "\n",
    "img_gauss = cv2.GaussianBlur(img,(5,5),sigmaX=10)\n",
    "\n",
    "cv2.imshow(\"comparison\",np.hstack([img,img_after,img_gauss]))\n",
    "\n",
    "cv2.waitKey(0)\n",
    "cv2.destroyAllWindows()"
   ]
  },
  {
   "cell_type": "markdown",
   "metadata": {},
   "source": [
    "## 双边滤波\n",
    "灰度距离：当前点灰度和锚点灰度的差的绝对值\n",
    "\n",
    "同时考虑的空间距离和灰度距离\n",
    "\n",
    "没有模糊图片的边界而只是“磨皮”操作"
   ]
  },
  {
   "cell_type": "code",
   "execution_count": null,
   "metadata": {},
   "outputs": [],
   "source": [
    "import cv2\n",
    "import numpy as np\n",
    "\n",
    "'''\n",
    "d:kernel_size\n",
    "sigmaColor:灰度距离里的标准差\n",
    "sigmaSpace:空间距离里的标准差\n",
    "'''\n",
    "img = cv2.imread(\"/Users/duchengtai/Library/Mobile Documents/com~apple~CloudDocs/code- iCloud/opencv/day5/ed.jpeg\")\n",
    "\n",
    "\n",
    "img_after = cv2.bilateralFilter(img,d=7,sigmaColor=50,sigmaSpace=50)\n",
    "\n",
    "cv2.imshow(\"ed\",np.hstack([img,img_after]))\n",
    "\n",
    "cv2.waitKey(0)\n",
    "cv2.destroyAllWindows()\n"
   ]
  },
  {
   "cell_type": "code",
   "execution_count": null,
   "metadata": {},
   "outputs": [],
   "source": []
  }
 ],
 "metadata": {
  "kernelspec": {
   "display_name": "opencv_env",
   "language": "python",
   "name": "python3"
  },
  "language_info": {
   "codemirror_mode": {
    "name": "ipython",
    "version": 3
   },
   "file_extension": ".py",
   "mimetype": "text/x-python",
   "name": "python",
   "nbconvert_exporter": "python",
   "pygments_lexer": "ipython3",
   "version": "3.9.21"
  }
 },
 "nbformat": 4,
 "nbformat_minor": 2
}
