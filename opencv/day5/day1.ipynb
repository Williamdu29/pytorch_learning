{
 "cells": [
  {
   "cell_type": "markdown",
   "metadata": {},
   "source": [
    "图像的运算"
   ]
  },
  {
   "cell_type": "code",
   "execution_count": 1,
   "metadata": {},
   "outputs": [],
   "source": [
    "import cv2\n",
    "import numpy as np"
   ]
  },
  {
   "cell_type": "code",
   "execution_count": 2,
   "metadata": {},
   "outputs": [
    {
     "name": "stdout",
     "output_type": "stream",
     "text": [
      "(366, 364, 3)\n",
      "(360, 424, 3)\n",
      "(360, 360, 3)\n",
      "(360, 360, 3)\n",
      "(360, 360, 3)\n"
     ]
    }
   ],
   "source": [
    "# 加法运算 要求两个图片的通道数和长宽相同——维度相同\n",
    "img1 = cv2.imread('/Users/duchengtai/Library/Mobile Documents/com~apple~CloudDocs/code- iCloud/opencv/day1/JM.jpeg')\n",
    "img2 = cv2.imread('JM2.jpeg')\n",
    "\n",
    "print(img1.shape)\n",
    "print(img2.shape)\n",
    "\n",
    "# 利用切片方式使两个图片大小一致\n",
    "jm1 = img1[0:360,0:360]\n",
    "jm2 = img2[0:360,0:360]\n",
    "\n",
    "print(jm1.shape)\n",
    "print(jm2.shape)\n",
    "\n",
    "\n",
    "jm_mix = cv2.add(jm1,jm2) # 只要是大于255的像素点，都会变为255，所以整合后的图片会很亮\n",
    "\n",
    "jm_mix2 = cv2.subtract(jm1,jm2) # 两个图像之间的减法，小于0的话自动变为0\n",
    "print(jm_mix.shape)\n",
    "\n",
    "jm_mix3 = cv2.multiply(jm1,jm2)\n",
    "\n",
    "jm_mix4 = cv2.divide(jm1,jm2)\n",
    "\n",
    "cv2.imshow('jm-series',np.hstack((jm1,jm2,jm_mix,jm_mix2,jm_mix3,jm_mix4)))\n",
    "\n",
    "cv2.waitKey(0)\n",
    "cv2.destroyAllWindows()"
   ]
  },
  {
   "cell_type": "code",
   "execution_count": 5,
   "metadata": {},
   "outputs": [],
   "source": [
    "# 图片和单子数字进行运算，超出255的数字会 % 255\n",
    "jm1 += 100\n",
    "cv2.imshow('jm',jm1)\n"
   ]
  },
  {
   "cell_type": "markdown",
   "metadata": {},
   "source": []
  }
 ],
 "metadata": {
  "kernelspec": {
   "display_name": "opencv_env",
   "language": "python",
   "name": "python3"
  },
  "language_info": {
   "codemirror_mode": {
    "name": "ipython",
    "version": 3
   },
   "file_extension": ".py",
   "mimetype": "text/x-python",
   "name": "python",
   "nbconvert_exporter": "python",
   "pygments_lexer": "ipython3",
   "version": "3.9.21"
  }
 },
 "nbformat": 4,
 "nbformat_minor": 2
}
