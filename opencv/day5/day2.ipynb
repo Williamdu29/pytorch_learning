{
 "cells": [
  {
   "cell_type": "markdown",
   "metadata": {},
   "source": [
    "图像的融合"
   ]
  },
  {
   "cell_type": "code",
   "execution_count": null,
   "metadata": {},
   "outputs": [],
   "source": [
    "import cv2\n",
    "import numpy as np"
   ]
  },
  {
   "cell_type": "code",
   "execution_count": null,
   "metadata": {},
   "outputs": [],
   "source": [
    "# 图像的融合不是简单的加减，而是给图像做了线性运算\n",
    " \n",
    "jm1 = cv2.imread(\"/Users/duchengtai/Library/Mobile Documents/com~apple~CloudDocs/code- iCloud/opencv/day1/JM.jpeg\")\n",
    "jm2 = cv2.imread(\"/Users/duchengtai/Library/Mobile Documents/com~apple~CloudDocs/code- iCloud/opencv/day5/JM2.jpeg\")\n",
    "\n",
    "jm1_new = jm1[0:360,0:360]\n",
    "jm2_new = jm2[0:360,0:360]\n",
    "\n",
    "jm_weighted = cv2.addWeighted(jm1_new,0.6,jm2_new,0.4,10)\n",
    "\n",
    "list = (jm1_new,jm2_new,jm_weighted)\n",
    "cv2.imshow(\"series\",np.hstack(list))\n",
    "\n",
    "cv2.waitKey(0)\n",
    "cv2.destroyAllWindows()\n"
   ]
  },
  {
   "cell_type": "markdown",
   "metadata": {},
   "source": []
  }
 ],
 "metadata": {
  "kernelspec": {
   "display_name": "opencv_env",
   "language": "python",
   "name": "python3"
  },
  "language_info": {
   "name": "python",
   "version": "3.9.21"
  }
 },
 "nbformat": 4,
 "nbformat_minor": 2
}
