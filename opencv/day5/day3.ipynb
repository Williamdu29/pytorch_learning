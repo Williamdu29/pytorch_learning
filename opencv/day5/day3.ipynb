{
 "cells": [
  {
   "cell_type": "markdown",
   "metadata": {},
   "source": [
    "opencv的逻辑运算"
   ]
  },
  {
   "cell_type": "code",
   "execution_count": 8,
   "metadata": {},
   "outputs": [],
   "source": [
    "import cv2\n",
    "import numpy as np"
   ]
  },
  {
   "cell_type": "code",
   "execution_count": 2,
   "metadata": {},
   "outputs": [
    {
     "name": "stdout",
     "output_type": "stream",
     "text": [
      "0\n"
     ]
    }
   ],
   "source": [
    "# 异或\n",
    "print(1^1)"
   ]
  },
  {
   "cell_type": "code",
   "execution_count": 4,
   "metadata": {},
   "outputs": [
    {
     "name": "stdout",
     "output_type": "stream",
     "text": [
      "196\n"
     ]
    }
   ],
   "source": [
    "# opencv中的与或非是对应位置元素进行与或非、异或\n",
    "print(204&213)\n",
    "# 先转为2进制再进行运算\n"
   ]
  },
  {
   "cell_type": "code",
   "execution_count": 10,
   "metadata": {},
   "outputs": [
    {
     "name": "stdout",
     "output_type": "stream",
     "text": [
      "[[[207 208 206]\n",
      "  [207 208 206]]\n",
      "\n",
      " [[203 204 202]\n",
      "  [203 204 202]]]\n",
      "---------\n",
      "[[[48 47 49]\n",
      "  [48 47 49]]\n",
      "\n",
      " [[52 51 53]\n",
      "  [52 51 53]]]\n"
     ]
    }
   ],
   "source": [
    "jm1 = cv2.imread(\"/Users/duchengtai/Library/Mobile Documents/com~apple~CloudDocs/code- iCloud/opencv/day1/JM.jpeg\")\n",
    "jm2 = cv2.imread(\"/Users/duchengtai/Library/Mobile Documents/com~apple~CloudDocs/code- iCloud/opencv/day5/JM2.jpeg\")\n",
    "\n",
    "# 非操作\n",
    "jm1_not = cv2.bitwise_not(jm1)\n",
    "\n",
    "print(jm1[:2,:2])\n",
    "print(\"---------\")\n",
    "print(jm1_not[:2,:2])\n",
    "\n",
    "list = [jm1,jm1_not]\n",
    "cv2.imshow(\"jm\",np.hstack(list))\n",
    "\n",
    "cv2.waitKey(0)\n",
    "cv2.destroyAllWindows()"
   ]
  },
  {
   "cell_type": "code",
   "execution_count": null,
   "metadata": {},
   "outputs": [],
   "source": [
    "# 与操作 图片的对应位\n",
    "jm1_new = jm1[:360,:360]\n",
    "jm2_new = jm2[:360,:360]\n",
    "\n",
    "jm_and = cv2.bitwise_and(jm1_new,jm2_new)\n",
    "\n",
    "print(jm_and[:2,:2])\n",
    "\n",
    "list = [jm1_new,jm2_new,jm_and]\n",
    "cv2.imshow('jm',np.hstack(list))\n",
    "\n",
    "cv2.waitKey(0)\n",
    "cv2.destroyAllWindows()\n"
   ]
  },
  {
   "cell_type": "code",
   "execution_count": null,
   "metadata": {},
   "outputs": [],
   "source": [
    "# 或操作\n",
    "jm_or = cv2.bitwise_or(jm1_new,jm2_new)\n",
    "                       \n",
    "print(jm_or[:2,:2])\n",
    "\n",
    "list = [jm1_new,jm2_new,jm_or]\n",
    "cv2.imshow('jm',np.hstack(list))\n",
    "\n",
    "cv2.waitKey(0)"
   ]
  },
  {
   "cell_type": "markdown",
   "metadata": {},
   "source": []
  },
  {
   "cell_type": "code",
   "execution_count": null,
   "metadata": {},
   "outputs": [],
   "source": []
  }
 ],
 "metadata": {
  "kernelspec": {
   "display_name": "opencv_env",
   "language": "python",
   "name": "python3"
  },
  "language_info": {
   "codemirror_mode": {
    "name": "ipython",
    "version": 3
   },
   "file_extension": ".py",
   "mimetype": "text/x-python",
   "name": "python",
   "nbconvert_exporter": "python",
   "pygments_lexer": "ipython3",
   "version": "3.9.21"
  }
 },
 "nbformat": 4,
 "nbformat_minor": 2
}
