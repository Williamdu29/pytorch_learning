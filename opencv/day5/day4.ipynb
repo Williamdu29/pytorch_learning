{
 "cells": [
  {
   "cell_type": "markdown",
   "metadata": {},
   "source": [
    "# 图像的基本变化"
   ]
  },
  {
   "cell_type": "code",
   "execution_count": 2,
   "metadata": {},
   "outputs": [],
   "source": [
    "import cv2\n",
    "import numpy as np"
   ]
  },
  {
   "cell_type": "code",
   "execution_count": 4,
   "metadata": {},
   "outputs": [
    {
     "name": "stdout",
     "output_type": "stream",
     "text": [
      "(366, 364, 3)\n",
      "(355, 471, 3)\n",
      "(366, 364, 3)\n"
     ]
    }
   ],
   "source": [
    "# 图像的放大和缩小\n",
    "'''\n",
    "src:要缩放的图片\n",
    "dsize:缩放后的图片大小   注意：先写宽度再写高度   \n",
    "dst:缩放后的输出图片\n",
    "fx,fy:宽度和高度的缩放比\n",
    "interpolation:插值算法\n",
    "'''\n",
    " \n",
    "jm = cv2.imread(\"/Users/duchengtai/Library/Mobile Documents/com~apple~CloudDocs/code- iCloud/opencv/day1/JM.jpeg\")\n",
    "ed = cv2.imread(\"/Users/duchengtai/Library/Mobile Documents/com~apple~CloudDocs/code- iCloud/opencv/day5/ed.jpeg\")\n",
    "\n",
    "print(jm.shape)\n",
    "print(ed.shape)\n",
    "\n",
    "# 将ed 缩放成为和jm一样大\n",
    "# ed_resize = cv2.resize(ed,(364,366))\n",
    "# print(ed_resize.shape)\n",
    "\n",
    "# cv2.imshow(\"singer\",np.hstack((jm,ed_resize)))\n",
    "\n",
    "ed1 = cv2.resize(ed,(480,640),interpolation=cv2.INTER_AREA)\n",
    "ed2 = cv2.resize(ed,(480,640),interpolation=cv2.INTER_BITS)\n",
    "ed3 = cv2.resize(ed,(480,640),interpolation=cv2.INTER_CUBIC)\n",
    "ed4 = cv2.resize(ed,(480,640),interpolation=cv2.INTER_LINEAR)\n",
    "\n",
    "ed5 = cv2.resize(ed,dsize=None,fx=0.5,fy=0.5)\n",
    "\n",
    "ed_list = [ed1,ed2,ed3,ed4]\n",
    "\n",
    "# cv2.imshow(\"ed\",ed)\n",
    "\n",
    "cv2.imshow(\"eds\",np.hstack(ed_list))\n",
    "\n",
    "cv2.imshow(\"ed5\",ed5)\n",
    "\n",
    "cv2.waitKey(0)\n",
    "cv2.destroyAllWindows()\n"
   ]
  },
  {
   "cell_type": "code",
   "execution_count": null,
   "metadata": {},
   "outputs": [],
   "source": [
    "# 图像的翻转和转化\n",
    "import cv2\n",
    "import numpy as np\n",
    "import time\n",
    "\n",
    "'''\n",
    "flipCode=0:上下翻转\n",
    "flipCode<0:上下左右翻转\n",
    "flipCode>0:上下翻转\n",
    "'''\n",
    "ed = cv2.imread(\"/Users/duchengtai/Library/Mobile Documents/com~apple~CloudDocs/code- iCloud/opencv/day5/ed.jpeg\")\n",
    "\n",
    "ed_flip = cv2.flip(ed,flipCode=1)\n",
    "\n",
    "while True:\n",
    "\n",
    "    ed_flip = cv2.flip(ed_flip,flipCode=1)\n",
    "    \n",
    "    cv2.imshow(\"ed\",ed_flip)\n",
    "\n",
    "    time.sleep(0.3)\n",
    "\n",
    "    if cv2.waitKey(10) == ord('q'):\n",
    "        break\n",
    "\n",
    "\n",
    "cv2.destroyAllWindows()\n"
   ]
  },
  {
   "cell_type": "code",
   "execution_count": null,
   "metadata": {},
   "outputs": [],
   "source": [
    "# 图像的旋转\n",
    "import cv2\n",
    "import numpy as np\n",
    "import time\n",
    "\n",
    "wheel = cv2.imread(\"/Users/duchengtai/Library/Mobile Documents/com~apple~CloudDocs/code- iCloud/opencv/day5/wheel.jpeg\")\n",
    "\n",
    "wheel_rotate = cv2.rotate(wheel,rotateCode=cv2.ROTATE_90_CLOCKWISE)\n",
    "\n",
    "while True:\n",
    "\n",
    "    wheel_rotate = cv2.rotate(wheel_rotate,cv2.ROTATE_90_CLOCKWISE)\n",
    "    \n",
    "    cv2.imshow(\"wheel\",wheel_rotate)\n",
    "\n",
    "    time.sleep(0.1)\n",
    "\n",
    "    if cv2.waitKey(10) == ord('q'):\n",
    "        break\n",
    "\n",
    "\n",
    "cv2.destroyAllWindows()\n"
   ]
  },
  {
   "cell_type": "markdown",
   "metadata": {},
   "source": [
    "## 仿射变换——图像平移\n",
    "仿射变换的变换矩阵\n",
    "https://blog.csdn.net/u011681952/article/details/98942207\n"
   ]
  },
  {
   "cell_type": "code",
   "execution_count": 1,
   "metadata": {},
   "outputs": [],
   "source": [
    "# 仿射变化是各种图片变换的总称\n",
    "'''\n",
    "M:变换矩阵\n",
    "dsize:输出图片大小\n",
    "flag:插值算法\n",
    "mode:边界外推法标志\n",
    "value:填充边界值\n",
    "'''\n",
    "\n",
    "import cv2\n",
    "import numpy as np"
   ]
  },
  {
   "cell_type": "code",
   "execution_count": null,
   "metadata": {},
   "outputs": [],
   "source": [
    "ed = cv2.imread(\"/Users/duchengtai/Library/Mobile Documents/com~apple~CloudDocs/code- iCloud/opencv/day5/ed.jpeg\")\n",
    "\n",
    "h, w, ch = ed.shape\n",
    "\n",
    "#定义仿射变换平移的距离\n",
    "tx = 2\n",
    "ty = 0\n",
    "\n",
    "# 右移图片的仿射矩阵\n",
    "M = np.float32([\n",
    "    [1, 0, tx],\n",
    "    [0, 1, ty],\n",
    "    [0, 0, 1]\n",
    "])\n",
    "\n",
    "\n",
    "\n",
    "ed_affine = cv2.warpAffine(ed,M,(w,h))\n",
    "\n",
    "list = [ed,ed_affine]\n",
    "\n",
    "cv2.imshow(\"ed_affine\",np.hstack(list))\n",
    "\n",
    "cv2.waitKey(0)\n",
    "cv2.destroyAllWindows()"
   ]
  },
  {
   "cell_type": "markdown",
   "metadata": {},
   "source": []
  },
  {
   "cell_type": "markdown",
   "metadata": {},
   "source": [
    "### 如何获取变换矩阵？"
   ]
  },
  {
   "cell_type": "code",
   "execution_count": 2,
   "metadata": {},
   "outputs": [],
   "source": [
    "import cv2\n",
    "import numpy as np"
   ]
  },
  {
   "cell_type": "code",
   "execution_count": null,
   "metadata": {},
   "outputs": [],
   "source": [
    "# opencv提供了计算变换矩阵的API\n",
    "'''center:以图片的那个点为中心旋转\n",
    "    angle:旋转的角度，默认为逆时针\n",
    "    scale:缩放比例，想把图片进行什么样子的缩放\n",
    "\n",
    "'''\n",
    "\n",
    "jm = cv2.imread(\"/Users/duchengtai/Library/Mobile Documents/com~apple~CloudDocs/code- iCloud/opencv/day5/JM2.jpeg\")\n",
    "\n",
    "h, w, ch = jm.shape\n",
    "\n",
    "# 获取旋转变换的仿射矩阵\n",
    "M = cv2.getRotationMatrix2D((w/2,h/2),90,1)\n",
    "# 饶中心点转90度\n",
    "\n",
    "jm_rotate = cv2.warpAffine(jm,M,(w,h))\n",
    "\n",
    "cv2.imshow(\"jm\",jm)\n",
    "cv2.imshow(\"new_jm\",jm_rotate)\n",
    "\n",
    "cv2.waitKey(0)\n",
    "cv2.destroyAllWindows()"
   ]
  },
  {
   "cell_type": "code",
   "execution_count": null,
   "metadata": {},
   "outputs": [],
   "source": [
    "# 通过图片上的3个点来确定M\n",
    "\n",
    "jm = cv2.imread(\"/Users/duchengtai/Library/Mobile Documents/com~apple~CloudDocs/code- iCloud/opencv/day5/JM2.jpeg\")\n",
    "\n",
    "h, w, ch = jm.shape\n",
    "\n",
    "# 需要原始图片3个点坐标和变换后3个点的坐标，3对点之间必须一一对应\n",
    "\n",
    "origin = np.float32([[100,100],[200,200],[150,300]])\n",
    "result = np.float32([[50,150],[150,250],[100,350]])\n",
    "\n",
    "M = cv2.getAffineTransform(origin,result)\n",
    "new_jm = cv2.warpAffine(jm,M,(w,h))\n",
    "\n",
    "cv2.imshow(\"jm\",jm)\n",
    "cv2.imshow(\"new_jm\",new_jm)\n",
    "\n",
    "cv2.waitKey(0)\n",
    "cv2.destroyAllWindows()"
   ]
  },
  {
   "cell_type": "markdown",
   "metadata": {},
   "source": []
  },
  {
   "cell_type": "markdown",
   "metadata": {},
   "source": [
    "### 透视变化\n",
    "把斜着的图片拉正"
   ]
  },
  {
   "cell_type": "code",
   "execution_count": null,
   "metadata": {},
   "outputs": [],
   "source": [
    "import cv2\n",
    "import numpy as np\n",
    "\n",
    "pic = cv2.imread(\"/Users/duchengtai/Library/Mobile Documents/com~apple~CloudDocs/code- iCloud/opencv/day5/toushi.jpeg\")\n",
    "\n",
    "'''src:原图的四个点的坐标\n",
    "    dst:'''\n",
    "\n",
    "h,w,ch = pic.shape\n",
    "\n",
    "src = np.float32([[0,0],[w,0],[0,h],[w,h]])\n",
    "dst = np.float32([[0,0],[200,0],[0,200],[200,200]])\n",
    "\n",
    "M = cv2.getPerspectiveTransform(src,dst)\n",
    "\n",
    "new_pic = cv2.warpAffine(pic,M,(200,200))\n",
    "\n",
    "cv2.imshow(\"cal\",pic)\n",
    "cv2.imshow(\"new_cal\",new_pic)\n",
    "\n",
    "cv2.waitKey(0)\n",
    "cv2.destroyAllWindows()\n"
   ]
  }
 ],
 "metadata": {
  "kernelspec": {
   "display_name": "opencv_env",
   "language": "python",
   "name": "python3"
  },
  "language_info": {
   "codemirror_mode": {
    "name": "ipython",
    "version": 3
   },
   "file_extension": ".py",
   "mimetype": "text/x-python",
   "name": "python",
   "nbconvert_exporter": "python",
   "pygments_lexer": "ipython3",
   "version": "3.9.21"
  }
 },
 "nbformat": 4,
 "nbformat_minor": 2
}
