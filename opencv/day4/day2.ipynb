{
 "cells": [
  {
   "cell_type": "markdown",
   "metadata": {},
   "source": [
    "### 绘制文本"
   ]
  },
  {
   "cell_type": "code",
   "execution_count": 1,
   "metadata": {},
   "outputs": [],
   "source": [
    "import cv2\n",
    "import numpy as np"
   ]
  },
  {
   "cell_type": "code",
   "execution_count": 2,
   "metadata": {},
   "outputs": [],
   "source": [
    "img = np.zeros((480,640,3),np.uint8)\n",
    "\n",
    "pic = cv2.imread(\"/Users/duchengtai/Library/Mobile Documents/com~apple~CloudDocs/code- iCloud/opencv/day1/JM.jpeg\")\n",
    "# 绘制文本\n",
    "cv2.putText(pic,\"Hello,OpenCV\",(100,100),cv2.FONT_HERSHEY_COMPLEX,2,(0,255,0))\n",
    "\n",
    "cv2.imshow('text',pic)\n",
    "\n",
    "if cv2.waitKey(0):\n",
    "    cv2.destroyAllWindows()\n"
   ]
  },
  {
   "cell_type": "markdown",
   "metadata": {},
   "source": []
  }
 ],
 "metadata": {
  "kernelspec": {
   "display_name": "opencv_env",
   "language": "python",
   "name": "python3"
  },
  "language_info": {
   "codemirror_mode": {
    "name": "ipython",
    "version": 3
   },
   "file_extension": ".py",
   "mimetype": "text/x-python",
   "name": "python",
   "nbconvert_exporter": "python",
   "pygments_lexer": "ipython3",
   "version": "3.9.21"
  }
 },
 "nbformat": 4,
 "nbformat_minor": 2
}
