{
 "cells": [
  {
   "cell_type": "markdown",
   "metadata": {},
   "source": [
    "绘制各种图形"
   ]
  },
  {
   "cell_type": "code",
   "execution_count": 1,
   "metadata": {},
   "outputs": [],
   "source": [
    "import cv2\n",
    "import numpy as np"
   ]
  },
  {
   "cell_type": "code",
   "execution_count": 4,
   "metadata": {},
   "outputs": [],
   "source": [
    "img = np.zeros((480,640,3),np.uint8)\n",
    "\n",
    "cv2.line(img,(10,20),(329,480),(0,255,0),4,16)\n",
    "cv2.rectangle(img,(100,100),(400,400),(0,0,255),5,16)\n",
    "cv2.circle(img,(320,240),100,(255,0,0),5,16)\n",
    "cv2.ellipse(img,(200,200),(50,100),90,0,180,(255,255,255),5,16)\n",
    "'''\n",
    "axis:半短轴和半长轴\n",
    "angle:椭圆的角度\n",
    "'''\n",
    "\n",
    "# 绘制多边形\n",
    "pts = np.array([[0, 0], [200, 200], [300, 60]], np.int32)\n",
    "cv2.polylines(img,[pts],True,(0,255,255),5,16) # 注意传进去的pts是三维的\n",
    "\n",
    "# 填充的多边形\n",
    "pts2 = np.array([[100,100], [350,350], [40,70]],np.int32)\n",
    "cv2.fillPoly(img,[pts2],(100,100,100))\n",
    "\n",
    "cv2.imshow('drawline',img)\n",
    "\n",
    "if cv2.waitKey(1) == ord('q'):\n",
    "    cv2.destroyAllWindows()"
   ]
  },
  {
   "cell_type": "markdown",
   "metadata": {},
   "source": []
  }
 ],
 "metadata": {
  "kernelspec": {
   "display_name": "opencv_env",
   "language": "python",
   "name": "python3"
  },
  "language_info": {
   "codemirror_mode": {
    "name": "ipython",
    "version": 3
   },
   "file_extension": ".py",
   "mimetype": "text/x-python",
   "name": "python",
   "nbconvert_exporter": "python",
   "pygments_lexer": "ipython3",
   "version": "3.9.21"
  }
 },
 "nbformat": 4,
 "nbformat_minor": 2
}
