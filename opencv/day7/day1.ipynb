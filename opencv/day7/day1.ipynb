{
 "cells": [
  {
   "cell_type": "markdown",
   "metadata": {},
   "source": [
    "# 形态学\n",
    "\n",
    "利用0、1取值的卷积核进行提取输入图像的形状和特征\n",
    "一般处理的都是二进制图像\n"
   ]
  },
  {
   "cell_type": "markdown",
   "metadata": {},
   "source": [
    "## 图像二值化\n",
    "方便进行形态学处理  "
   ]
  },
  {
   "cell_type": "code",
   "execution_count": null,
   "metadata": {},
   "outputs": [],
   "source": [
    "'''\n",
    "maxval:最大值，不一定是255\n",
    "'''\n",
    "\n",
    "import cv2\n",
    "import numpy as np\n",
    "\n",
    "# 全局二值化\n",
    "\n",
    "img = cv2.imread(\"/Users/duchengtai/Library/Mobile Documents/com~apple~CloudDocs/code- iCloud/opencv/day5/JM2.jpeg\")\n",
    "\n",
    "# 二值化是对灰度图像进行的，先进行灰度转化\n",
    "img_gray = cv2.cvtColor(img,cv2.COLOR_BGR2GRAY)\n",
    "\n",
    "\n",
    "# 函数返回两个值，设定的阈值和二值化图片\n",
    "thr, dst = cv2.threshold(img_gray,thresh=80,maxval=255,type=cv2.THRESH_BINARY) # 二值化图片的像素点只有0或maxval\n",
    "\n",
    "\n",
    "cv2.imshow(\"res\",np.hstack([img_gray,dst]))\n",
    "\n",
    "cv2.waitKey(0)\n",
    "cv2.destroyAllWindows()"
   ]
  },
  {
   "cell_type": "markdown",
   "metadata": {},
   "source": [
    "## 自适应阈值二值化\n",
    "\n",
    "根据图像上的每一块小区域计算阈值\n",
    "\n",
    ">> 阈值的取值？\n",
    "\n",
    "1. 阈值取自相邻区域的平均值\n",
    "2. 阈值取自相邻区域的加权和，权重为高斯窗口"
   ]
  },
  {
   "cell_type": "code",
   "execution_count": null,
   "metadata": {},
   "outputs": [],
   "source": [
    "import cv2\n",
    "import numpy as np\n",
    "\n",
    "'''\n",
    "maxval:最大值，不一定是255\n",
    "blockSize:邻域大小\n",
    "C:阈值等于平均值减去这个常数C\n",
    "'''\n",
    "\n",
    "import cv2\n",
    "import numpy as np\n",
    "\n",
    "# 全局二值化\n",
    "\n",
    "img = cv2.imread(\"/Users/duchengtai/Library/Mobile Documents/com~apple~CloudDocs/code- iCloud/opencv/day5/JM2.jpeg\")\n",
    "\n",
    "# 二值化是对灰度图像进行的，先进行灰度转化\n",
    "img_gray = cv2.cvtColor(img,cv2.COLOR_BGR2GRAY)\n",
    "\n",
    "\n",
    "# 只返回dst二值化图片\n",
    "dst = cv2.adaptiveThreshold(img_gray,maxValue=255,adaptiveMethod=cv2.ADAPTIVE_THRESH_GAUSSIAN_C,thresholdType=cv2.THRESH_BINARY,blockSize=19,C=0)\n",
    "\n",
    "cv2.imshow(\"res\",np.hstack([img_gray,dst]))\n",
    "\n",
    "cv2.waitKey(0)\n",
    "cv2.destroyAllWindows()"
   ]
  },
  {
   "cell_type": "markdown",
   "metadata": {},
   "source": [
    "## 腐蚀操作\n",
    "对于卷积核，若其覆盖的每一点都是白色像素，则锚点设置为255，只要卷积核有黑色，就把整个区域辅食成为黑色"
   ]
  },
  {
   "cell_type": "code",
   "execution_count": null,
   "metadata": {},
   "outputs": [],
   "source": [
    "import cv2\n",
    "import numpy as np\n",
    "\n",
    "'''\n",
    "iterations:腐蚀操作的次数，迭代次数越多，腐蚀越明显\n",
    "'''\n",
    "\n",
    "img = cv2.imread(\"/Users/duchengtai/Library/Mobile Documents/com~apple~CloudDocs/code- iCloud/opencv/day5/JM2.jpeg\")\n",
    "\n",
    "# 定义核\n",
    "kernal = np.ones((3,3),np.uint8)\n",
    "dst = cv2.erode(img,kernel=kernal,iterations=1)\n",
    "\n",
    "cv2.imshow(\"dst\",np.hstack([img,dst]))\n",
    "\n",
    "cv2.waitKey(0)\n",
    "cv2.destroyAllWindows()"
   ]
  },
  {
   "cell_type": "markdown",
   "metadata": {},
   "source": [
    "## 获取结构元（形态学卷积核）\n",
    "\n",
    "API中的shape是卷积核的形状，不是长宽，而是卷积核中1形成的形状"
   ]
  },
  {
   "cell_type": "code",
   "execution_count": 1,
   "metadata": {},
   "outputs": [
    {
     "name": "stdout",
     "output_type": "stream",
     "text": [
      "[[1 1 1 1 1]\n",
      " [1 1 1 1 1]\n",
      " [1 1 1 1 1]\n",
      " [1 1 1 1 1]\n",
      " [1 1 1 1 1]]\n"
     ]
    }
   ],
   "source": [
    "import cv2\n",
    "import numpy as np\n",
    "\n",
    "kernal = cv2.getStructuringElement(cv2.MORPH_RECT,(5,5))\n",
    "print(kernal)"
   ]
  },
  {
   "cell_type": "code",
   "execution_count": 2,
   "metadata": {},
   "outputs": [
    {
     "name": "stdout",
     "output_type": "stream",
     "text": [
      "[[0 0 0 0 0 0 0 1 0 0 0 0 0 0 0]\n",
      " [0 0 0 1 1 1 1 1 1 1 1 1 0 0 0]\n",
      " [0 0 1 1 1 1 1 1 1 1 1 1 1 0 0]\n",
      " [0 1 1 1 1 1 1 1 1 1 1 1 1 1 0]\n",
      " [0 1 1 1 1 1 1 1 1 1 1 1 1 1 0]\n",
      " [1 1 1 1 1 1 1 1 1 1 1 1 1 1 1]\n",
      " [1 1 1 1 1 1 1 1 1 1 1 1 1 1 1]\n",
      " [1 1 1 1 1 1 1 1 1 1 1 1 1 1 1]\n",
      " [1 1 1 1 1 1 1 1 1 1 1 1 1 1 1]\n",
      " [1 1 1 1 1 1 1 1 1 1 1 1 1 1 1]\n",
      " [0 1 1 1 1 1 1 1 1 1 1 1 1 1 0]\n",
      " [0 1 1 1 1 1 1 1 1 1 1 1 1 1 0]\n",
      " [0 0 1 1 1 1 1 1 1 1 1 1 1 0 0]\n",
      " [0 0 0 1 1 1 1 1 1 1 1 1 0 0 0]\n",
      " [0 0 0 0 0 0 0 1 0 0 0 0 0 0 0]]\n"
     ]
    }
   ],
   "source": [
    "import cv2\n",
    "import numpy as np\n",
    "\n",
    "kernal = cv2.getStructuringElement(cv2.MORPH_ELLIPSE,(15,15))\n",
    "print(kernal)"
   ]
  },
  {
   "cell_type": "code",
   "execution_count": 3,
   "metadata": {},
   "outputs": [
    {
     "name": "stdout",
     "output_type": "stream",
     "text": [
      "[[0 0 1 0 0]\n",
      " [0 0 1 0 0]\n",
      " [1 1 1 1 1]\n",
      " [0 0 1 0 0]\n",
      " [0 0 1 0 0]]\n"
     ]
    }
   ],
   "source": [
    "import cv2\n",
    "import numpy as np\n",
    "\n",
    "kernal = cv2.getStructuringElement(cv2.MORPH_CROSS,(5,5))\n",
    "print(kernal)"
   ]
  },
  {
   "cell_type": "code",
   "execution_count": null,
   "metadata": {},
   "outputs": [],
   "source": [
    "import cv2\n",
    "import numpy as np\n",
    "\n",
    "'''\n",
    "iterations:腐蚀操作的次数，迭代次数越多，腐蚀越明显\n",
    "'''\n",
    "\n",
    "img = cv2.imread(\"/Users/duchengtai/Library/Mobile Documents/com~apple~CloudDocs/code- iCloud/opencv/day5/JM2.jpeg\")\n",
    "\n",
    "# 定义核，利用获取的形态学卷积核进行\n",
    "kernal = cv2.getStructuringElement(cv2.MORPH_CROSS,(3,3))\n",
    "\n",
    "dst = cv2.erode(img,kernel=kernal,iterations=1)\n",
    "\n",
    "cv2.imshow(\"dst\",np.hstack([img,dst]))\n",
    "\n",
    "cv2.waitKey(0)\n",
    "cv2.destroyAllWindows()"
   ]
  },
  {
   "cell_type": "markdown",
   "metadata": {},
   "source": []
  },
  {
   "cell_type": "markdown",
   "metadata": {},
   "source": [
    "## 膨胀操作\n",
    "\n",
    "腐蚀操作的逆过程，只要保证卷积核的锚点是非0值，则周边的的值都变成非0值"
   ]
  },
  {
   "cell_type": "code",
   "execution_count": 1,
   "metadata": {},
   "outputs": [],
   "source": [
    "import cv2\n",
    "import numpy as np\n",
    "\n",
    "img = cv2.imread(\"/Users/duchengtai/Library/Mobile Documents/com~apple~CloudDocs/code- iCloud/opencv/day5/JM2.jpeg\")\n",
    "\n",
    "kernal = cv2.getStructuringElement(cv2.MORPH_CROSS,(3,3))\n",
    "dst = cv2.dilate(img,kernel=kernal,iterations=3)\n",
    "\n",
    "cv2.imshow('large',np.hstack([img,dst]))\n",
    "cv2.waitKey(0)\n",
    "cv2.destroyAllWindows()"
   ]
  },
  {
   "cell_type": "code",
   "execution_count": 2,
   "metadata": {},
   "outputs": [],
   "source": [
    "import cv2\n",
    "import numpy as np\n",
    "\n",
    "img_ori = cv2.imread(\"/Users/duchengtai/Library/Mobile Documents/com~apple~CloudDocs/code- iCloud/opencv/day5/ed.jpeg\")\n",
    "img = cv2.cvtColor(img_ori,cv2.COLOR_BGR2GRAY)\n",
    "\n",
    "kernel = cv2.getStructuringElement(cv2.MORPH_CROSS,(3,3))\n",
    "\n",
    "#先腐蚀\n",
    "img_erode = cv2.erode(img,kernel=kernel,iterations=1)\n",
    "\n",
    "#再膨胀\n",
    "img_dilate = cv2.dilate(img_erode,kernel=kernel,iterations=1)\n",
    "\n",
    "cv2.imshow('dst',np.hstack([img,img_erode,img_dilate]))\n",
    "\n",
    "cv2.waitKey(0)\n",
    "cv2.destroyAllWindows()"
   ]
  },
  {
   "cell_type": "markdown",
   "metadata": {},
   "source": [
    "## 开运算\n",
    "\n",
    "腐蚀之后再进行膨胀\n",
    "提供一种去除噪声的思路，对原图无损伤"
   ]
  },
  {
   "cell_type": "code",
   "execution_count": null,
   "metadata": {},
   "outputs": [],
   "source": [
    "import cv2\n",
    "import numpy as np\n",
    "\n",
    "img = cv2.imread(\"/Users/duchengtai/Library/Mobile Documents/com~apple~CloudDocs/code- iCloud/opencv/day7/noise.jpeg\")\n",
    "\n",
    "# 手动实现开运算\n",
    "\n",
    "k = cv2.getStructuringElement(cv2.MORPH_RECT,(3,3))\n",
    "\n",
    "# 先腐蚀\n",
    "dst = cv2.erode(img,kernel=k,iterations=1)\n",
    "# 再膨胀\n",
    "dst = cv2.dilate(dst,kernel=k,iterations=1)\n",
    "\n",
    "cv2.imshow(\"dst\",np.hstack([img,dst]))\n",
    "\n",
    "cv2.waitKey(0)\n",
    "cv2.destroyAllWindows()"
   ]
  },
  {
   "cell_type": "code",
   "execution_count": null,
   "metadata": {},
   "outputs": [],
   "source": [
    "import cv2\n",
    "import numpy as np\n",
    "\n",
    "img = cv2.imread(\"/Users/duchengtai/Library/Mobile Documents/com~apple~CloudDocs/code- iCloud/opencv/day7/noise.jpeg\")\n",
    "\n",
    "\n",
    "k = cv2.getStructuringElement(cv2.MORPH_RECT,(3,3))\n",
    "\n",
    "dst = cv2.morphologyEx(img,cv2.MORPH_OPEN,k,2)\n",
    "\n",
    "cv2.imshow(\"dst\",np.hstack([img,dst]))\n",
    "\n",
    "cv2.waitKey(0)\n",
    "cv2.destroyAllWindows()"
   ]
  },
  {
   "cell_type": "markdown",
   "metadata": {},
   "source": []
  },
  {
   "cell_type": "markdown",
   "metadata": {},
   "source": [
    "## 闭运算\n",
    "先膨胀再腐蚀\n",
    "只要用来去除图像内部的噪声"
   ]
  },
  {
   "cell_type": "code",
   "execution_count": 1,
   "metadata": {},
   "outputs": [],
   "source": [
    "import cv2\n",
    "import numpy as np\n",
    "\n",
    "img = cv2.imread(\"/Users/duchengtai/Library/Mobile Documents/com~apple~CloudDocs/code- iCloud/opencv/day7/noise.jpeg\")\n",
    "\n",
    "k = cv2.getStructuringElement(cv2.MORPH_RECT,(5,5))\n",
    "\n",
    "dst = cv2.morphologyEx(img,cv2.MORPH_CLOSE,k,2)\n",
    "\n",
    "cv2.imshow(\"dst\",np.hstack([img,dst]))\n",
    "\n",
    "cv2.waitKey(0)\n",
    "cv2.destroyAllWindows()"
   ]
  },
  {
   "cell_type": "markdown",
   "metadata": {},
   "source": []
  },
  {
   "cell_type": "markdown",
   "metadata": {},
   "source": [
    "## 形态学梯度\n",
    "原图-腐蚀后的图\n",
    "\n",
    "得到图像的边缘细线，即梯度"
   ]
  },
  {
   "cell_type": "code",
   "execution_count": null,
   "metadata": {},
   "outputs": [],
   "source": [
    "import cv2\n",
    "import numpy as np\n",
    "\n",
    "ed = cv2.imread(\"/Users/duchengtai/Library/Mobile Documents/com~apple~CloudDocs/code- iCloud/opencv/day5/ed.jpeg\")\n",
    "\n",
    "kernel = cv2.getStructuringElement(cv2.MORPH_RECT,(3,3))\n",
    "\n",
    "# 直接调用opencv的API\n",
    "dst = cv2.morphologyEx(ed,cv2.MORPH_GRADIENT,kernel,iterations=1)\n",
    "\n",
    "cv2.imshow(\"dst\",np.hstack([ed,dst]))\n",
    "\n",
    "cv2.waitKey(0)\n",
    "cv2.destroyAllWindows()"
   ]
  },
  {
   "cell_type": "markdown",
   "metadata": {},
   "source": [
    "## 顶帽运算\n",
    "原图-开运算\n",
    "开运算得到图像外部的噪声点，顶帽的到的是去掉的噪声点"
   ]
  },
  {
   "cell_type": "code",
   "execution_count": null,
   "metadata": {},
   "outputs": [],
   "source": [
    "import cv2\n",
    "import numpy as np\n",
    "\n",
    "ed = cv2.imread(\"/Users/duchengtai/Library/Mobile Documents/com~apple~CloudDocs/code- iCloud/opencv/day5/ed.jpeg\")\n",
    "\n",
    "kernel = cv2.getStructuringElement(cv2.MORPH_RECT,(3,3))\n",
    "\n",
    "# 直接调用opencv的API\n",
    "dst = cv2.morphologyEx(ed,cv2.MORPH_TOPHAT,kernel,iterations=1)\n",
    "\n",
    "cv2.imshow(\"dst\",np.hstack([ed,dst]))\n",
    "\n",
    "cv2.waitKey(0)\n",
    "cv2.destroyAllWindows()"
   ]
  },
  {
   "cell_type": "markdown",
   "metadata": {},
   "source": []
  },
  {
   "cell_type": "markdown",
   "metadata": {},
   "source": [
    "## 黑帽操作\n",
    "闭运算得到图像内部的噪声点，黑帽操作是原图-闭运算\n",
    "得到的是图像内的噪声点\n"
   ]
  },
  {
   "cell_type": "code",
   "execution_count": 1,
   "metadata": {},
   "outputs": [],
   "source": [
    "import cv2\n",
    "import numpy as np\n",
    "\n",
    "ed = cv2.imread(\"/Users/duchengtai/Library/Mobile Documents/com~apple~CloudDocs/code- iCloud/opencv/day5/ed.jpeg\")\n",
    "\n",
    "kernel = cv2.getStructuringElement(cv2.MORPH_RECT,(3,3))\n",
    "\n",
    "# 直接调用opencv的API\n",
    "dst = cv2.morphologyEx(ed,cv2.MORPH_BLACKHAT,kernel,iterations=1)\n",
    "\n",
    "cv2.imshow(\"dst\",np.hstack([ed,dst]))\n",
    "\n",
    "cv2.waitKey(0)\n",
    "cv2.destroyAllWindows()"
   ]
  },
  {
   "cell_type": "code",
   "execution_count": null,
   "metadata": {},
   "outputs": [],
   "source": []
  }
 ],
 "metadata": {
  "kernelspec": {
   "display_name": "opencv_env",
   "language": "python",
   "name": "python3"
  },
  "language_info": {
   "codemirror_mode": {
    "name": "ipython",
    "version": 3
   },
   "file_extension": ".py",
   "mimetype": "text/x-python",
   "name": "python",
   "nbconvert_exporter": "python",
   "pygments_lexer": "ipython3",
   "version": "3.9.21"
  }
 },
 "nbformat": 4,
 "nbformat_minor": 2
}
