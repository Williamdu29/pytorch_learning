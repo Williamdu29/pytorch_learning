{
 "cells": [
  {
   "cell_type": "markdown",
   "metadata": {},
   "source": [
    "控制鼠标"
   ]
  },
  {
   "cell_type": "code",
   "execution_count": 1,
   "metadata": {},
   "outputs": [],
   "source": [
    "import cv2\n",
    "import numpy as np"
   ]
  },
  {
   "cell_type": "code",
   "execution_count": null,
   "metadata": {},
   "outputs": [],
   "source": [
    "# 函数名可以随意选择，但是参数必须是5个\n",
    "\n",
    "'''\n",
    "event:鼠标事件\n",
    "x,y:发生鼠标事件的坐标\n",
    "flags:鼠标的组合操作\n",
    "userdata\n",
    "'''\n",
    "def mouse_callback(event, x,y, flags, userdata):\n",
    "    print(event,x,y,flags,userdata)\n",
    "    \n",
    "# 创建窗口\n",
    "cv2.namedWindow('mouse',cv2.WINDOW_NORMAL)\n",
    "cv2.resizeWindow('mouse',640,480)\n",
    "\n",
    "\n",
    "# 设置鼠标的回调函数  在mouse窗口上执行任何的鼠标操作，都会执行函数mouse_callback\n",
    "cv2.setMouseCallback('mouse',mouse_callback,'123')\n",
    "\n",
    "\n",
    "# 生成全黑的图片\n",
    "img = np.zeros((480,360,3), np.uint8)\n",
    "\n",
    "while True:\n",
    "    cv2.imshow('mouse',img)\n",
    "    if cv2.waitKey(10) == ord('q'):\n",
    "        break\n",
    "    \n",
    "\n",
    "cv2.destroyAllWindows()\n"
   ]
  },
  {
   "cell_type": "markdown",
   "metadata": {},
   "source": []
  }
 ],
 "metadata": {
  "kernelspec": {
   "display_name": "opencv_env",
   "language": "python",
   "name": "python3"
  },
  "language_info": {
   "codemirror_mode": {
    "name": "ipython",
    "version": 3
   },
   "file_extension": ".py",
   "mimetype": "text/x-python",
   "name": "python",
   "nbconvert_exporter": "python",
   "pygments_lexer": "ipython3",
   "version": "3.9.21"
  }
 },
 "nbformat": 4,
 "nbformat_minor": 2
}
