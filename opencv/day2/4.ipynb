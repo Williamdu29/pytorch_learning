{
 "cells": [
  {
   "cell_type": "markdown",
   "metadata": {},
   "source": [
    "Trackbar控件"
   ]
  },
  {
   "cell_type": "code",
   "execution_count": 1,
   "metadata": {},
   "outputs": [],
   "source": [
    "import cv2\n",
    "import numpy as np"
   ]
  },
  {
   "cell_type": "code",
   "execution_count": null,
   "metadata": {},
   "outputs": [],
   "source": [
    "'''\n",
    "trackbarname: 名字\n",
    "winname: trackbar创建的窗口名\n",
    "value: trackbar的起始值\n",
    "count: trackbar的最大值\n",
    "onChange: 回调函数，拖动trackbar时触发的函数\n",
    "'''\n",
    "\n",
    "'''\n",
    "getTrackbarPos函数获取当前的trackbar值\n",
    "'''\n",
    "\n",
    "# 创建窗口\n",
    "cv2.namedWindow('trackbar',cv2.WINDOW_NORMAL)\n",
    "cv2.resizeWindow('trackbar',640,480)\n",
    "\n",
    "# 定义trackbar的回调函数\n",
    "def callback(value):\n",
    "    print(value)\n",
    "\n",
    "# 创建trackbar\n",
    "cv2.createTrackbar('R','TRACKBAR',0,255,callback)\n",
    "cv2.createTrackbar('G','TRACKBAR',0,255,callback)\n",
    "cv2.createTrackbar('B','TRACKBAR',0,255,callback)\n",
    "\n",
    "# 创建一个纯黑色的背景\n",
    "img = np.zeros((480,640,3),np.uint8)\n",
    "\n",
    "while True:\n",
    "    r = cv2.getTrackbarPos('R','TRACKBAR')\n",
    "    g = cv2.getTrackbarPos('G','TRACKBAR')\n",
    "    b = cv2.getTrackbarPos(\"B\",'TRACKBAR')\n",
    "\n",
    "    # 使用 r, g, b 填充整个图像\n",
    "    img[:, :] = [b, g, r]  # 注意 OpenCV 中的颜色通道顺序是 BGR\n",
    "\n",
    "    cv2.imshow('img',img)\n",
    "\n",
    "    if cv2.waitKey(10) == ord('q'):\n",
    "        break\n",
    "\n",
    "cv2.destroyAllWindows()\n",
    "\n",
    "\n",
    "    \n",
    "\n"
   ]
  },
  {
   "cell_type": "code",
   "execution_count": null,
   "metadata": {},
   "outputs": [],
   "source": []
  }
 ],
 "metadata": {
  "kernelspec": {
   "display_name": "opencv_env",
   "language": "python",
   "name": "python3"
  },
  "language_info": {
   "codemirror_mode": {
    "name": "ipython",
    "version": 3
   },
   "file_extension": ".py",
   "mimetype": "text/x-python",
   "name": "python",
   "nbconvert_exporter": "python",
   "pygments_lexer": "ipython3",
   "version": "3.9.21"
  }
 },
 "nbformat": 4,
 "nbformat_minor": 2
}
