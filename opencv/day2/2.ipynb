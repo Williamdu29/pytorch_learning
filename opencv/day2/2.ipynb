{
 "cells": [
  {
   "cell_type": "markdown",
   "metadata": {},
   "source": [
    "### 视频录制"
   ]
  },
  {
   "cell_type": "code",
   "execution_count": 1,
   "metadata": {},
   "outputs": [],
   "source": [
    "import cv2"
   ]
  },
  {
   "cell_type": "code",
   "execution_count": null,
   "metadata": {},
   "outputs": [],
   "source": [
    "cap = cv2.VideoCapture(0) # 打开摄像头\n",
    "\n",
    "format =  cv2.VideoWriter_fourcc(*'mp4v') # 指定保存视频的格式\n",
    "\n",
    "# 创建videowriter对象\n",
    "vw = cv2.VideoWriter('output.mp4',format,20,(640,480))\n",
    "\n",
    "while cap.isOpened():\n",
    "    ret, frame = cap.read()\n",
    "\n",
    "    if ret == False:\n",
    "        print('没有读取到视频')\n",
    "        break\n",
    "\n",
    "    # 写入每一帧的数据      将当前帧 frame 写入 VideoWriter，即保存到 output.mp4 文件中\n",
    "    vw.write(frame)\n",
    "\n",
    "    cv2.imshow('frame',frame) # 显示当前帧\n",
    "    \n",
    "    key = cv2.waitKey(10)\n",
    "    if key == ord('q'):\n",
    "        print(\"准备退出\")\n",
    "        break\n",
    "\n",
    "cap.release()\n",
    "vw.release()\n",
    "cv2.destroyAllWindows()\n"
   ]
  }
 ],
 "metadata": {
  "kernelspec": {
   "display_name": "opencv_env",
   "language": "python",
   "name": "python3"
  },
  "language_info": {
   "codemirror_mode": {
    "name": "ipython",
    "version": 3
   },
   "file_extension": ".py",
   "mimetype": "text/x-python",
   "name": "python",
   "nbconvert_exporter": "python",
   "pygments_lexer": "ipython3",
   "version": "3.9.21"
  }
 },
 "nbformat": 4,
 "nbformat_minor": 2
}
