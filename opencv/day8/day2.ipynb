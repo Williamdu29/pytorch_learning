{
 "cells": [
  {
   "cell_type": "markdown",
   "metadata": {},
   "source": [
    "# 外接矩阵\n",
    "\n",
    "最小外接矩阵和最大外接矩阵\n",
    "\n",
    "最小外接矩阵：可以知道框住物体的角度\n",
    "传入轮廓列表，返回值RotatedRect\n",
    "\n",
    ">> RotateRect:\n",
    "1. x,y\n",
    "2. width,height\n",
    "3. angle\n",
    "\n",
    "\n",
    "最大外接矩阵：\n",
    "传入轮廓列表，返回值Rect"
   ]
  },
  {
   "cell_type": "markdown",
   "metadata": {},
   "source": [
    "## 最小外接矩形"
   ]
  },
  {
   "cell_type": "code",
   "execution_count": null,
   "metadata": {},
   "outputs": [],
   "source": [
    "import cv2\n",
    "import numpy as np\n",
    "\n",
    "cat = cv2.imread(\"/Users/duchengtai/Library/Mobile Documents/com~apple~CloudDocs/code- iCloud/opencv/day8/cat.jpeg\")\n",
    "\n",
    "cat_gray = cv2.cvtColor(cat,cv2.COLOR_BGR2GRAY)\n",
    "threshold,binary = cv2.threshold(cat_gray,240,255,cv2.THRESH_BINARY)\n",
    "\n",
    "contours,hierarchy = cv2.findContours(binary,cv2.RETR_TREE,cv2.CHAIN_APPROX_SIMPLE)\n",
    "\n",
    "print(len(contours))\n",
    "\n",
    "# 过滤掉图像边界轮廓\n",
    "if contours:\n",
    "    # 计算所有轮廓的面积，并按降序排序\n",
    "    contours = sorted(contours, key=cv2.contourArea, reverse=True)\n",
    "\n",
    "    # 排除面积最大的轮廓（假设是边框）\n",
    "    if len(contours) > 1:\n",
    "        target_contour = contours[1]  # 选择第二大轮廓\n",
    "    else:\n",
    "        target_contour = contours[0]  # 如果没有多个轮廓，就用唯一的轮廓\n",
    "\n",
    "\n",
    "# 寻找最小外接矩形\n",
    "r = cv2.minAreaRect(target_contour)\n",
    "\n",
    "# r是API的返回值，有角度，现在只取出起始点和宽度高度\n",
    "box = cv2.boxPoints(r)\n",
    "box = np.int0(box) #强制转换\n",
    "\n",
    "# 绘制最小外接矩形\n",
    "cv2.drawContours(cat,[box],0,(0,0,255),3)\n",
    "\n",
    "cv2.imshow(\"dst\",cat)\n",
    "\n",
    "cv2.waitKey(0)\n",
    "cv2.destroyAllWindows()"
   ]
  },
  {
   "cell_type": "markdown",
   "metadata": {},
   "source": [
    "## 最大外接矩形"
   ]
  },
  {
   "cell_type": "code",
   "execution_count": null,
   "metadata": {},
   "outputs": [
    {
     "name": "stdout",
     "output_type": "stream",
     "text": [
      "1735\n"
     ]
    }
   ],
   "source": [
    "import cv2\n",
    "import numpy as np\n",
    "\n",
    "cat = cv2.imread(\"/Users/duchengtai/Library/Mobile Documents/com~apple~CloudDocs/code- iCloud/opencv/day8/cat.jpeg\")\n",
    "\n",
    "cat_gray = cv2.cvtColor(cat,cv2.COLOR_BGR2GRAY)\n",
    "threshold,binary = cv2.threshold(cat_gray,240,255,cv2.THRESH_BINARY)\n",
    "\n",
    "contours,hierarchy = cv2.findContours(binary,cv2.RETR_TREE,cv2.CHAIN_APPROX_SIMPLE)\n",
    "\n",
    "print(len(contours))\n",
    "\n",
    "# 过滤掉图像边界轮廓\n",
    "if contours:\n",
    "    # 计算所有轮廓的面积，并按降序排序\n",
    "    contours = sorted(contours, key=cv2.contourArea, reverse=True)\n",
    "\n",
    "    # 排除面积最大的轮廓（假设是边框）\n",
    "    if len(contours) > 1:\n",
    "        target_contour = contours[1]  # 选择第二大轮廓\n",
    "    else:\n",
    "        target_contour = contours[0]  # 如果没有多个轮廓，就用唯一的轮廓\n",
    "\n",
    "\n",
    "# 寻找最大外接矩形\n",
    "x,y,w,h = cv2.boundingRect(target_contour)\n",
    "# 绘制最大外接矩形\n",
    "cv2.rectangle(cat,(x,y),(x+w,y+h),(255,0,0),3)\n",
    "\n",
    "\n",
    "cv2.imshow(\"dst\",cat)\n",
    "\n",
    "cv2.waitKey(0)\n",
    "cv2.destroyAllWindows()"
   ]
  },
  {
   "cell_type": "markdown",
   "metadata": {},
   "source": []
  }
 ],
 "metadata": {
  "kernelspec": {
   "display_name": "opencv_env",
   "language": "python",
   "name": "python3"
  },
  "language_info": {
   "codemirror_mode": {
    "name": "ipython",
    "version": 3
   },
   "file_extension": ".py",
   "mimetype": "text/x-python",
   "name": "python",
   "nbconvert_exporter": "python",
   "pygments_lexer": "ipython3",
   "version": "3.9.21"
  }
 },
 "nbformat": 4,
 "nbformat_minor": 2
}
