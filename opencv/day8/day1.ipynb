{
 "cells": [
  {
   "cell_type": "markdown",
   "metadata": {},
   "source": [
    "# 多边形逼近与凸包\n",
    "\n",
    ">> 多边形逼近\n",
    "确定多边形的几个特征点，来逼近多边形——拟合\n",
    "\n",
    ">> 凸包\n",
    "利用突出的图像来拟合物体的轮廓"
   ]
  },
  {
   "cell_type": "code",
   "execution_count": null,
   "metadata": {},
   "outputs": [],
   "source": [
    "import cv2\n",
    "import numpy as np\n",
    "\n",
    "'''\n",
    "多边形逼近API\n",
    "curve:轮廓\n",
    "epsilon:精度\n",
    "closed:是否闭合\n",
    "\n",
    "凸包API\n",
    "points:轮廓的索引\n",
    "clockwise:方向\n",
    "'''\n",
    "\n",
    "def drawShape(src,points):\n",
    "    i = 0\n",
    "    for i in range(len(points)):\n",
    "        if i == len(points)-1:\n",
    "            x,y = points[i][0]\n",
    "            x1,y1 = points[0][0]\n",
    "            cv2.line(src,(x,y),(x1,y1),(0,0,255),thickness=1)\n",
    "        else:\n",
    "            x,y = points[i][0]\n",
    "            x1,y1 = points[i+1][0]\n",
    "            cv2.line(src,(x,y),(x1,y1),(0,0,255),thickness=1)\n",
    "    \n",
    "\n",
    "hand = cv2.imread(\"/Users/duchengtai/Library/Mobile Documents/com~apple~CloudDocs/code- iCloud/opencv/day8/hand.jpeg\")\n",
    "\n",
    "# 对图片进行灰度华和二值化处理\n",
    "hand_gray = cv2.cvtColor(hand,cv2.COLOR_BGR2GRAY)\n",
    "threshold, binary = cv2.threshold(hand_gray,230,255,cv2.THRESH_BINARY)\n",
    "\n",
    "# 查找轮廓\n",
    "contours,hierarchy = cv2.findContours(binary,cv2.RETR_TREE,cv2.CHAIN_APPROX_SIMPLE)\n",
    "# 绘制轮廓\n",
    "cv2.drawContours(hand,contours=contours,contourIdx=1,color=(0,255,0),thickness=1)\n",
    "\n",
    "# 定义精度\n",
    "e = 10\n",
    "# 查找多边形逼近的点序列\n",
    "approx = cv2.approxPolyDP(contours[1],e,closed=True)\n",
    "\n",
    "\n",
    "# 自动计算凸包\n",
    "convex = cv2.convexHull(contours[1])\n",
    "\n",
    "drawShape(hand,approx)\n",
    "# drawShape(hand,convex)\n",
    "\n",
    "cv2.imshow(\"dst\",hand)\n",
    "\n",
    "cv2.waitKey(0)\n",
    "cv2.destroyAllWindows()\n"
   ]
  },
  {
   "cell_type": "code",
   "execution_count": null,
   "metadata": {},
   "outputs": [],
   "source": []
  },
  {
   "cell_type": "code",
   "execution_count": null,
   "metadata": {},
   "outputs": [],
   "source": []
  }
 ],
 "metadata": {
  "kernelspec": {
   "display_name": "opencv_env",
   "language": "python",
   "name": "python3"
  },
  "language_info": {
   "codemirror_mode": {
    "name": "ipython",
    "version": 3
   },
   "file_extension": ".py",
   "mimetype": "text/x-python",
   "name": "python",
   "nbconvert_exporter": "python",
   "pygments_lexer": "ipython3",
   "version": "3.9.21"
  }
 },
 "nbformat": 4,
 "nbformat_minor": 2
}
