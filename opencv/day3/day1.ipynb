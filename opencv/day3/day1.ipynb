{
 "cells": [
  {
   "cell_type": "markdown",
   "metadata": {},
   "source": [
    "[颜色空间模型](https://blog.csdn.net/zaishuiyifangxym/article/details/89429221)\n",
    "\n",
    "opencv 用的最多的色彩空间是HSV\n",
    "### HSV ###\n",
    "Hue：色相，用角度度量，取值范围是0-360度\n",
    "Saturation：饱和度，颜色接近光谱色的程度。即使某种颜色和白色的混合，饱和度越高，颜色越深而艳\n",
    ">> 纯色中混入白色的量\n",
    "\n",
    "Value：明度，表示颜色明亮的程度。\n",
    "\n",
    "\n",
    "### HSL ###\n",
    "Hue\n",
    "Saturation\n",
    ">> 与混入的黑白无关，仅仅看颜色的稀释程度\n",
    "\n",
    "Lightness：亮度，越往上颜色越白\n",
    "\n",
    "### YUV ###\n",
    "颜色编码方法，常用在各个视频处理组件中。\n",
    "Y(luminance)：灰阶值\n",
    "U V：色度\n",
    " "
   ]
  },
  {
   "cell_type": "markdown",
   "metadata": {},
   "source": [
    "# 色彩空间的转化"
   ]
  },
  {
   "cell_type": "code",
   "execution_count": null,
   "metadata": {},
   "outputs": [],
   "source": [
    "\n",
    "import cv2"
   ]
  },
  {
   "cell_type": "code",
   "execution_count": null,
   "metadata": {},
   "outputs": [],
   "source": [
    "import cv2\n",
    "\n",
    "cv2.namedWindow('color', cv2.WINDOW_NORMAL)\n",
    "cv2.resizeWindow('color', 640, 480)\n",
    "\n",
    "\n",
    "def callback(value):\n",
    "    pass\n",
    "    # 什么也不做\n",
    "\n",
    "\n",
    "mabppe = cv2.imread('/Users/duchengtai/Library/Mobile Documents/com~apple~CloudDocs/code- iCloud/opencv/day1/JM.jpeg')\n",
    "\n",
    "# 定义常见的颜色空间转换\n",
    "\n",
    "colorspaces = [\n",
    "    cv2.COLOR_BGR2HLS,\n",
    "    cv2.COLOR_BGR2BGRA,\n",
    "    cv2.COLOR_BGR2HSV,\n",
    "    cv2.COLOR_BGR2GRAY,\n",
    "    cv2.COLOR_BGR2YUV]\n",
    "\n",
    "cv2.createTrackbar('colorchange', 'color', 0, 4, callback)\n",
    "\n",
    "while True:\n",
    "\n",
    "    index = cv2.getTrackbarPos('colorchange', 'color')\n",
    "\n",
    "# 颜色空间转换的API\n",
    "    new_img = cv2.cvtColor(mabppe, colorspaces[index])\n",
    "    cv2.imshow('color', new_img)\n",
    "\n",
    "    if cv2.waitKey(10) == ord('q'):\n",
    "        break\n",
    "\n",
    "cv2.destroyAllWindows()"
   ]
  },
  {
   "cell_type": "markdown",
   "metadata": {},
   "source": []
  }
 ],
 "metadata": {
  "kernelspec": {
   "display_name": "opencv_env",
   "language": "python",
   "name": "python3"
  },
  "language_info": {
   "name": "python",
   "version": "3.9.21"
  }
 },
 "nbformat": 4,
 "nbformat_minor": 2
}
