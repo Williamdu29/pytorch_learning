{
 "cells": [
  {
   "cell_type": "markdown",
   "metadata": {},
   "source": [
    "mat的深浅拷贝"
   ]
  },
  {
   "cell_type": "code",
   "execution_count": 1,
   "metadata": {},
   "outputs": [],
   "source": [
    "# opencv 用mat数据结构保存图片，python中把mat转换为ndarray\n",
    "# mat 类\n",
    "import cv2\n",
    "import numpy as np"
   ]
  },
  {
   "cell_type": "code",
   "execution_count": 6,
   "metadata": {},
   "outputs": [],
   "source": [
    "# 读取图片\n",
    "jm = cv2.imread('/Users/duchengtai/Library/Mobile Documents/com~apple~CloudDocs/code- iCloud/opencv/day1/JM.jpeg')\n",
    "\n",
    "# 显示图片\n",
    "cv2.imshow('jm', jm)\n",
    "\n",
    "# 等待用户按键，按键后关闭窗口\n",
    "if cv2.waitKey(10) == ord('q'):\n",
    "    cv2.destroyAllWindows()"
   ]
  },
  {
   "cell_type": "code",
   "execution_count": 3,
   "metadata": {},
   "outputs": [],
   "source": [
    "# python 中已经包装成了ndarray，所以对mat的深浅拷贝就是对ndarray的深浅拷贝\n",
    "img = cv2.imread('/Users/duchengtai/Library/Mobile Documents/com~apple~CloudDocs/code- iCloud/opencv/day1/JM.jpeg')\n",
    "\n",
    "\n",
    "# 浅拷贝\n",
    "img2 = img.view()\n",
    "\n",
    "# 深拷贝\n",
    "img3 = img.copy()\n",
    "\n",
    "img[10:100,10:100] = [0,0,255]  # 在img的部分区域加上红色色块，此时浅拷贝是共享底层数据的会改变，而深拷贝则不会\n",
    "\n",
    "cv2.imshow('img',np.hstack((img,img2,img3)))\n",
    "\n",
    "cv2.waitKey(0)\n",
    "cv2.destroyAllWindows()\n",
    "\n",
    "           \n",
    "\n"
   ]
  },
  {
   "cell_type": "markdown",
   "metadata": {},
   "source": [
    "图像的分割与融合"
   ]
  },
  {
   "cell_type": "code",
   "execution_count": null,
   "metadata": {},
   "outputs": [
    {
     "name": "stdout",
     "output_type": "stream",
     "text": [
      "[[0 0 0 ... 0 0 0]\n",
      " [0 0 0 ... 0 0 0]\n",
      " [0 0 0 ... 0 0 0]\n",
      " ...\n",
      " [0 0 0 ... 0 0 0]\n",
      " [0 0 0 ... 0 0 0]\n",
      " [0 0 0 ... 0 0 0]]\n"
     ]
    }
   ],
   "source": [
    "img = np.zeros((200,200,3),np.uint8)\n",
    "\n",
    "# 图像分割\n",
    "b, g, r = cv2.split(img)\n",
    "\n",
    "print(b)\n",
    "\n",
    "# 分割出每个通道，对每个通道的值进行修改\n",
    "b[10:100,10:100] = 255\n",
    "g[10:100,10:100] = 255\n",
    "\n",
    "# 合并通道\n",
    "img2 = cv2.merge((b,g,r))\n",
    "\n",
    "cv2.imshow('img',np.hstack((img,img2)))\n",
    "cv2.imshow('channel',np.hstack((b,g)))\n",
    "\n",
    "cv2.waitKey(0)\n",
    "cv2.destroyAllWindows()"
   ]
  },
  {
   "cell_type": "code",
   "execution_count": null,
   "metadata": {},
   "outputs": [],
   "source": []
  }
 ],
 "metadata": {
  "kernelspec": {
   "display_name": "opencv_env",
   "language": "python",
   "name": "python3"
  },
  "language_info": {
   "codemirror_mode": {
    "name": "ipython",
    "version": 3
   },
   "file_extension": ".py",
   "mimetype": "text/x-python",
   "name": "python",
   "nbconvert_exporter": "python",
   "pygments_lexer": "ipython3",
   "version": "3.9.21"
  }
 },
 "nbformat": 4,
 "nbformat_minor": 2
}
