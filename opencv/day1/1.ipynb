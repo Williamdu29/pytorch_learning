{
 "cells": [
  {
   "cell_type": "markdown",
   "metadata": {},
   "source": [
    "### 窗口创建和销毁 ###"
   ]
  },
  {
   "cell_type": "code",
   "execution_count": 1,
   "metadata": {},
   "outputs": [],
   "source": [
    "import cv2"
   ]
  },
  {
   "cell_type": "code",
   "execution_count": null,
   "metadata": {},
   "outputs": [
    {
     "name": "stdout",
     "output_type": "stream",
     "text": [
      "窗口未销毁...\n"
     ]
    }
   ],
   "source": [
    "# 创建窗口\n",
    "#cv2.WINDOW_AUTOSIZE不允许修改窗口大小\n",
    "# cv2.namedWindow('window', cv2.WINDOW_AUTOSIZE)\n",
    "cv2.namedWindow('window',cv2.WINDOW_NORMAL)\n",
    "\n",
    "# 更改窗口的大小\n",
    "cv2.resizeWindow('window', 800,600)\n",
    "# 展示名字为window的窗口\n",
    "cv2.imshow('window',0)\n",
    "\n",
    "'''\n",
    "#等待键盘按键结束，返回按键的ascii码码值\n",
    "cv2.waitKey(0) # 0表示接受任何按键\n",
    "cv2.waitKey(5000) # 5000表示等待5000ms后自动关闭\n",
    "'''\n",
    "\n",
    "key = cv2.waitKey(0)\n",
    "# key返回键入的ascii码\n",
    "\n",
    "if key == ord('q'):\n",
    "    print('销毁窗口...')\n",
    "    cv2.destroyAllWindows()\n",
    "else:\n",
    "    print(\"窗口未销毁...\")\n"
   ]
  },
  {
   "cell_type": "code",
   "execution_count": null,
   "metadata": {},
   "outputs": [],
   "source": []
  },
  {
   "cell_type": "code",
   "execution_count": 3,
   "metadata": {},
   "outputs": [
    {
     "name": "stdout",
     "output_type": "stream",
     "text": [
      "97\n"
     ]
    }
   ],
   "source": [
    "ascii = ord(\"a\")\n",
    "print(ascii)"
   ]
  },
  {
   "cell_type": "markdown",
   "metadata": {},
   "source": []
  },
  {
   "cell_type": "code",
   "execution_count": null,
   "metadata": {},
   "outputs": [],
   "source": []
  }
 ],
 "metadata": {
  "kernelspec": {
   "display_name": "opencv_env",
   "language": "python",
   "name": "python3"
  },
  "language_info": {
   "codemirror_mode": {
    "name": "ipython",
    "version": 3
   },
   "file_extension": ".py",
   "mimetype": "text/x-python",
   "name": "python",
   "nbconvert_exporter": "python",
   "pygments_lexer": "ipython3",
   "version": "undefined.undefined.undefined"
  }
 },
 "nbformat": 4,
 "nbformat_minor": 4
}
